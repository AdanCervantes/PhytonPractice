print("Hello World!")

print(2 + 4)

a = 10;
b = 5
c = "Lolo"
d = "Lala"

print(a + b)
print(c +  d)
#print(a + c)  error de tipos

#conversiones int() bool()
print(c + str(a))

#formato de salida a Strings
#Cada vez que encuentre {} va a sustituir por el valor de format

print('Hola, {}!'.format('Rodrigo'))
print('Hola, {}!, este es su numero de identificación {}'.format('Rodrigo', 32156))

print('Hola, {}!, este es su numero de identificación {}'.format(c, a + b))

#pedir datos -- Todo dato es String, como en java

input("Ingresa tu nombre")

anho_actual = input('Digite el año actual: ')
anho_fabricacion = input('Digite el año de fabricación: ')
km_total = input('Digite el kilometraje total: ')
km_media = int(km_total) / (int(anho_actual) - int(anho_fabricacion))
km_media #escribir la variable sola la imprime
