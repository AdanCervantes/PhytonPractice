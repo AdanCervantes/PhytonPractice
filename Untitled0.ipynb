{
  "nbformat": 4,
  "nbformat_minor": 0,
  "metadata": {
    "colab": {
      "provenance": [],
      "collapsed_sections": []
    },
    "kernelspec": {
      "name": "python3",
      "display_name": "Python 3"
    },
    "language_info": {
      "name": "python"
    }
  },
  "cells": [
    {
      "cell_type": "code",
      "execution_count": null,
      "metadata": {
        "colab": {
          "base_uri": "https://localhost:8080/"
        },
        "id": "PeG_t2HfNL7B",
        "outputId": "4c5cb66d-7f87-496d-e164-909d3ef25ab8"
      },
      "outputs": [
        {
          "name": "stdout",
          "output_type": "stream",
          "text": [
            "Hello World!\n",
            "6\n",
            "15\n",
            "LoloLala\n",
            "Lolo10\n",
            "Hola, Rodrigo!\n",
            "Hola, Rodrigo!, este es su numero de identificación 32156\n",
            "Hola, Lolo!, este es su numero de identificación 15\n",
            "Ingresa tu nombrelolo\n",
            "Digite el año actual: 2022\n",
            "Digite el año de fabricación: 2021\n",
            "Digite el kilometraje total: 12000\n"
          ]
        },
        {
          "output_type": "execute_result",
          "data": {
            "text/plain": [
              "12000.0"
            ]
          },
          "metadata": {},
          "execution_count": 12
        }
      ],
      "source": [
        "print(\"Hello World!\")\n",
        "\n",
        "print(2 + 4)\n",
        "\n",
        "a = 10;\n",
        "b = 5\n",
        "c = \"Lolo\"\n",
        "d = \"Lala\"\n",
        "\n",
        "print(a + b)\n",
        "print(c +  d)\n",
        "#print(a + c)  error de tipos\n",
        "\n",
        "#conversiones int() bool()\n",
        "print(c + str(a))\n",
        "\n",
        "#formato de salida a Strings\n",
        "#Cada vez que encuentre {} va a sustituir por el valor de format\n",
        "\n",
        "print('Hola, {}!'.format('Rodrigo'))\n",
        "print('Hola, {}!, este es su numero de identificación {}'.format('Rodrigo', 32156))\n",
        "\n",
        "print('Hola, {}!, este es su numero de identificación {}'.format(c, a + b))\n",
        "\n",
        "#pedir datos -- Todo dato es String, como en java\n",
        "\n",
        "input(\"Ingresa tu nombre\")\n",
        "\n",
        "anho_actual = input('Digite el año actual: ')\n",
        "anho_fabricacion = input('Digite el año de fabricación: ')\n",
        "km_total = input('Digite el kilometraje total: ')\n",
        "km_media = int(km_total) / (int(anho_actual) - int(anho_fabricacion))\n",
        "km_media #escribir la variable sola la imprime\n",
        "\n",
        "\n"
      ]
    }
  ]
}