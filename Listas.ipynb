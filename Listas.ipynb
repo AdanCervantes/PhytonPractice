#Se pueden guardar diveros tipos de datos e incluso otras listas

carro_1 = ['Jetta Variant', 'Motor 4.0 Turbo', 2003, 44410.0, False, ['LLantas de aleación', 'Cerraduras eléctricas', 'Piloto automático'], 88078.64]
carro_2 = ['Passat', 'Motor Diesel', 1991, 5712.0, False, ['Central multimedia', 'Techo panorámico','Frenos ABS'], 106161.94]

print(carro_1)

#Podemos anidar listas dentro de listas
carros = [carro_1, carro_2]
carros

print(carros[0])
carros[0][2]

print(carro_1[1:4]) #la funcion n:m imprime el contenido de la lista desde el indice n hasta m-1

#
#
#Lista creada a partir de un range (similar al for)
numeros = list(range(10)) #crea con rango de 0 a n-1
print(numeros)

#Suponga que queremos seleccionar apenas los elementos pares de la lista numeros . En este caso
#podemos utilizar el operador [i:j:k] desde, hasta, paso para ayudarnos en esta tarea
print(numeros[0:10:2])
print(numeros[5:10:1])
print(numeros[5:12:3])

#En Data Science utilizamos informaciones provenientes de diversas fuentes, Estas informaciones
#pueden estar disponibles en formatos variados: listas, tuplas, texto, tablas, JSON, etc. Por este motivo,
#aprender a manipular en todos los formatos es indispensable para el trabajo de un científico de datos.

carro_1 = ['Dodge Jorney', 'Motor 3.0 32v', 2010, 99197, False, ['Vidrios eléctricos', 'Piloto automático', 'Techo panorámico', 'Aire acondicionado'], 120716.27]
carro_2 = ['Carens', 'Motor 5.0 V8 Bi-Turbo', 2011, 37978, False, ['Aire acondicionado', 'Panel digital', 'Central multimedia', 'Cambio automático'], 76566.49]
carro_3 = ['Ford Edge', 'Motor Diesel V6', 2002, 12859, False, ['Sensor crepuscular', 'Llantas de aleación', 'Techo panorámico', 'Sensor de lluvia'], 71647.59]

#Crea una secuencia con nombre carros que contenga a los datos de los 3 vehículos
carros = carro_1, carro_2, carro_3
print(carros)

#Utilizando una de las operaciones con secuencias que aprendimos, verifique en la secuencia carros
# si el vehículo Ford Edge tiene como accesorio Sensor de lluvia

print(carros[2][1]) # imprime el carro_3 que esta en el indice 2 y el m

'Sensor de lluvia' in carros[2][5] #carro indice 2 y la posicion 5 es la del arreglo dentro 

#Obtenga los códigos que tienen como resultado el siguiente conjunto de selecciones en la secuencia carros
# 1ª) 2002
# 2ª) ['Vidrios eléctricos', 'Piloto automático', 'Techo panorámico', 'Aire acondicionado']
# 3ª) 'Cambio automático'
# 4ª) ['Panel digital', 'Central multimedia']

print(carros[2][2]) #carro con año 2002
print(carros[0][5])
#print('Cambio automático' in carros[1][5])
print(carros[1][5][3])
print(carros[1][5][1:3])

#Obtener la sumatoria de los valores demercado de los 3 vehiculos de la secuencia carros

valor = carros[0][6] + carros[1][6] + carros[2][6]
#

print("Total de valor de los autos", valor)
