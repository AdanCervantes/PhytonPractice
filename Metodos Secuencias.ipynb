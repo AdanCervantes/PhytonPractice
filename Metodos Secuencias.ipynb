accesorios = ['LLantas de aleación', 'Cerraduras eléctricas', 'Piloto automático', 'Bancos de cuero',
'Aire acondicionado', 'Sensor de estacionamiento', 'Sensor crepuscular', 'Sensor de lluvia']

print(accesorios)
#La lsita MUTARA por lo que dejara de ser como estaba, NO PUEDES IMPRIMIR LA OPERACION MUTADORA... 
print(accesorios.sort()) #No es error pero no imprime la lista... una vez ordenada, podras imprimirla
print(accesorios) #lista ya ordenada

#Agregar valores
accesorios.append('4 * 4')
print(accesorios)

#insertar en posicion
accesorios.insert(2, 'Airbag')
print(accesorios)
accesorios.insert(2,'Ziper')
print(accesorios)

#Remove elimina LA PRIMERA OCURRENCIA de un dato (Si los esta una vez, se elimina, pero si esta 2 veces, elimina el primero)
accesorios.insert(7, 'Airbag')
print(accesorios)
accesorios.remove('Airbag')
print(accesorios)

#copiamos una lista en otra, sin embargo ambas listas ahora se refieren al mismo objeto
copia_accesorios = accesorios
print(accesorios)

#Para confirmar lo anterior, vamos a modificar la copia e imprimir la original
copia_accesorios.pop(10)
print(accesorios)

#para resolver eso y que sean dos objetos independientes usamos el metodo COPY
accesorios_copia = accesorios.copy()
print(accesorios_copia)

#eliminamos un dato de la lista original e imprimimos la original y la lista copiada
accesorios.pop(0)
print(accesorios)
print(accesorios_copia)

#Ejercicios
